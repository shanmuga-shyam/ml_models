{
 "cells": [
  {
   "cell_type": "code",
   "execution_count": 1,
   "id": "73048603-67cd-44f9-aa23-048223db5465",
   "metadata": {},
   "outputs": [],
   "source": [
    "from sklearn.linear_model import LogisticRegression\n",
    "from sklearn.svm import SVC\n",
    "from sklearn.ensemble import RandomForestClassifier\n",
    "import numpy as np\n",
    "from sklearn.datasets import load_digits\n",
    "\n",
    "digits = load_digits()"
   ]
  },
  {
   "cell_type": "code",
   "execution_count": 2,
   "id": "76745416-ddb5-402b-bb87-7c97f252b1c9",
   "metadata": {},
   "outputs": [],
   "source": [
    "from sklearn.model_selection import train_test_split\n",
    "x_train,x_test,y_train,y_test = train_test_split(digits.data,digits.target,test_size=0.3)"
   ]
  },
  {
   "cell_type": "code",
   "execution_count": 3,
   "id": "e0061e8c-bd5e-4c49-a6dd-8669d197532e",
   "metadata": {},
   "outputs": [
    {
     "data": {
      "text/plain": [
       "0.9481481481481482"
      ]
     },
     "execution_count": 3,
     "metadata": {},
     "output_type": "execute_result"
    }
   ],
   "source": [
    "lr = LogisticRegression(max_iter=1000)\n",
    "lr.fit(x_train,y_train)\n",
    "lr.score(x_test,y_test)"
   ]
  },
  {
   "cell_type": "code",
   "execution_count": 4,
   "id": "dbfc58f6-125f-4007-92e2-0434daabac58",
   "metadata": {},
   "outputs": [
    {
     "data": {
      "text/plain": [
       "0.9833333333333333"
      ]
     },
     "execution_count": 4,
     "metadata": {},
     "output_type": "execute_result"
    }
   ],
   "source": [
    "svm = SVC()\n",
    "svm.fit(x_train,y_train)\n",
    "svm.score(x_test,y_test)"
   ]
  },
  {
   "cell_type": "code",
   "execution_count": 5,
   "id": "899b6255-2961-453e-8bf2-7c73fc5f1652",
   "metadata": {},
   "outputs": [
    {
     "data": {
      "text/plain": [
       "0.9611111111111111"
      ]
     },
     "execution_count": 5,
     "metadata": {},
     "output_type": "execute_result"
    }
   ],
   "source": [
    "rf = RandomForestClassifier(n_estimators=40)\n",
    "rf.fit(x_train,y_train)\n",
    "rf.score(x_test,y_test)"
   ]
  },
  {
   "cell_type": "code",
   "execution_count": 6,
   "id": "4a412ce8-ee99-456d-945d-1c1d0ede5965",
   "metadata": {},
   "outputs": [
    {
     "data": {
      "text/plain": [
       "KFold(n_splits=3, random_state=None, shuffle=False)"
      ]
     },
     "execution_count": 6,
     "metadata": {},
     "output_type": "execute_result"
    }
   ],
   "source": [
    "from sklearn.model_selection import KFold\n",
    "kf = KFold(n_splits = 3)\n",
    "kf"
   ]
  },
  {
   "cell_type": "code",
   "execution_count": 7,
   "id": "b65db0fd-94b0-4fa7-897d-bf2dbbd172bd",
   "metadata": {},
   "outputs": [
    {
     "name": "stdout",
     "output_type": "stream",
     "text": [
      "[3 4 5 6 7 8] [0 1 2]\n",
      "[0 1 2 6 7 8] [3 4 5]\n",
      "[0 1 2 3 4 5] [6 7 8]\n"
     ]
    }
   ],
   "source": [
    "for train_index, test_index in kf.split([1,2,3,4,5,6,7,8,9]):\n",
    "    print(train_index,test_index)"
   ]
  },
  {
   "cell_type": "code",
   "execution_count": 8,
   "id": "6773fe99-ca46-4d60-a0ee-1895bdda7cc7",
   "metadata": {},
   "outputs": [],
   "source": [
    "def gs(model,x_train,x_test,y_train,y_test):\n",
    "    model.fit(x_train,y_train)\n",
    "    return model.score(x_test,y_test)"
   ]
  },
  {
   "cell_type": "code",
   "execution_count": 9,
   "id": "cdbb6db4-5f27-41fe-a386-a43248634349",
   "metadata": {},
   "outputs": [
    {
     "data": {
      "text/plain": [
       "0.9833333333333333"
      ]
     },
     "execution_count": 9,
     "metadata": {},
     "output_type": "execute_result"
    }
   ],
   "source": [
    "gs(SVC(),x_train,x_test,y_train,y_test)"
   ]
  },
  {
   "cell_type": "code",
   "execution_count": 24,
   "id": "05d35ddb-e5bc-474e-99c0-88ef227585f5",
   "metadata": {},
   "outputs": [],
   "source": [
    "from sklearn.model_selection import StratifiedKFold\n",
    "fold = StratifiedKFold(n_splits = 3)"
   ]
  },
  {
   "cell_type": "code",
   "execution_count": 50,
   "id": "50f51646-ea45-4162-91de-18e64cb1142b",
   "metadata": {},
   "outputs": [
    {
     "name": "stdout",
     "output_type": "stream",
     "text": [
      "[0.9248747913188647, 0.9432387312186978, 0.9148580968280468]\n",
      "[0.9666110183639399, 0.9816360601001669, 0.9549248747913188]\n",
      "[0.9398998330550918, 0.9549248747913188, 0.9165275459098498]\n"
     ]
    }
   ],
   "source": [
    "slog = []\n",
    "ssvm = []\n",
    "srandfor = []\n",
    "\n",
    "for train_index, test_index in kf.split(digits.data):\n",
    "    x_train, x_test, y_train, y_test = digits.data[train_index], digits.data[test_index], digits.target[train_index], digits.target[test_index]\n",
    "\n",
    "    slog.append(gs(LogisticRegression(max_iter = 1000),x_train,x_test,y_train,y_test))\n",
    "    ssvm.append(gs(SVC(),x_train,x_test,y_train,y_test))\n",
    "    srandfor.append(gs(RandomForestClassifier(n_estimators = 40),x_train,x_test,y_train,y_test))\n",
    "print(slog)\n",
    "print(ssvm)\n",
    "print(srandfor)"
   ]
  },
  {
   "cell_type": "code",
   "execution_count": 52,
   "id": "604ecbe8-733f-4d6c-9331-c338f083ce5f",
   "metadata": {},
   "outputs": [
    {
     "data": {
      "text/plain": [
       "array([0.96111111, 0.94444444, 0.98328691, 0.98885794, 0.93871866])"
      ]
     },
     "execution_count": 52,
     "metadata": {},
     "output_type": "execute_result"
    }
   ],
   "source": [
    "from sklearn.model_selection import cross_val_score\n",
    "cross_val_score(SVC(),digits.data,digits.target)"
   ]
  },
  {
   "cell_type": "code",
   "execution_count": 54,
   "id": "9f176d5d-dd5b-4773-adfb-51b5e34d7b38",
   "metadata": {},
   "outputs": [],
   "source": [
    "#we can use this instead of doing the full appending stages"
   ]
  },
  {
   "cell_type": "code",
   "execution_count": null,
   "id": "2370459d-4b05-4c99-ae9c-a700274f7971",
   "metadata": {},
   "outputs": [],
   "source": [
    "avg_log = sum(slog)//len(slog)\n",
    "avg_svm = sum(ssvm)//len(ssvm)\n",
    "avg_rf = sum(srandfor)//len(srandfor)\n",
    "x = [avg_log,avg_svm,avg_rf]\n",
    "mx = max(x)\n",
    "if mx == avg_svm:\n",
    "    print(\"SVM goat\")\n",
    "elif mx == avg_log:\n",
    "    print(\"Logistic regression goat\")\n",
    "elif "
   ]
  }
 ],
 "metadata": {
  "kernelspec": {
   "display_name": "Python 3 (ipykernel)",
   "language": "python",
   "name": "python3"
  },
  "language_info": {
   "codemirror_mode": {
    "name": "ipython",
    "version": 3
   },
   "file_extension": ".py",
   "mimetype": "text/x-python",
   "name": "python",
   "nbconvert_exporter": "python",
   "pygments_lexer": "ipython3",
   "version": "3.12.7"
  }
 },
 "nbformat": 4,
 "nbformat_minor": 5
}
