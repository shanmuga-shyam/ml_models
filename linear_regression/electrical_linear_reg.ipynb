{
 "cells": [
  {
   "cell_type": "code",
   "execution_count": null,
   "id": "f526d001-2ad7-4313-813a-c638f2cad891",
   "metadata": {},
   "outputs": [],
   "source": [
    "import os\n",
    "import pandas as pd\n",
    "import numpy as np\n",
    "import matplotlib.pyplot as plt\n",
    "from sklearn import linear_model"
   ]
  },
  {
   "cell_type": "code",
   "execution_count": null,
   "id": "c95b2043-ac73-4fea-9513-c0873764fe29",
   "metadata": {},
   "outputs": [],
   "source": [
    "df = pd.read_csv(r\"C:/Users/Shanmuga Shyam. B/OneDrive/Desktop/ml-learn/canada_per_capita_income.csv\")\n",
    "df"
   ]
  },
  {
   "cell_type": "code",
   "execution_count": null,
   "id": "2a149df8-6657-4ccd-83bf-bbe24e7ec6bb",
   "metadata": {},
   "outputs": [],
   "source": [
    "df.rename(columns={'per capita income (US$)': 'per_capita_income'}, inplace=True)\n",
    "reg = linear_model.LinearRegression()\n",
    "reg.fit(df[[\"year\"]],df[[\"per_capita_income\"]])"
   ]
  },
  {
   "cell_type": "code",
   "execution_count": null,
   "id": "79c454f2-34e5-4cec-8fdd-caef5adf529d",
   "metadata": {},
   "outputs": [],
   "source": [
    "x = reg.predict(pd.DataFrame({\"year\":[2025]}))\n",
    "x"
   ]
  },
  {
   "cell_type": "code",
   "execution_count": null,
   "id": "20c9212f-a865-4e82-b391-2869d2ae35a9",
   "metadata": {},
   "outputs": [],
   "source": [
    "plt.scatter(df['year'], df['per_capita_income'],color = \"red\", marker = \"+\")\n",
    "plt.xlabel(\"year\", fontsize = 20)\n",
    "plt.ylabel(\"per_capita_income\", fontsize= 20)\n",
    "plt.plot(df[\"year\"],reg.predict(df[[\"year\"]]),color = \"blue\")"
   ]
  },
  {
   "cell_type": "code",
   "execution_count": null,
   "id": "6481c47b-690b-44a0-a781-18ed3326e81b",
   "metadata": {},
   "outputs": [],
   "source": [
    "m = reg.coef_\n",
    "m"
   ]
  },
  {
   "cell_type": "code",
   "execution_count": null,
   "id": "3a7cffea-2fa9-43d3-bd8a-aca9cb6149de",
   "metadata": {},
   "outputs": [],
   "source": [
    "b = reg.intercept_\n",
    "b"
   ]
  },
  {
   "cell_type": "code",
   "execution_count": null,
   "id": "0c47927f-1602-4c73-a6d4-bdf6260068e4",
   "metadata": {},
   "outputs": [],
   "source": [
    "(m*x+b)*0.5"
   ]
  },
  {
   "cell_type": "code",
   "execution_count": null,
   "id": "3170c116-35e8-433e-98ce-c6f823cd5bcc",
   "metadata": {},
   "outputs": [],
   "source": [
    "d = pd.read_csv(r\"C:/Users/Shanmuga Shyam. B/OneDrive/Desktop/ml-learn/canada_per_capita_income.csv\")\n",
    "d"
   ]
  },
  {
   "cell_type": "code",
   "execution_count": null,
   "id": "bf2b5392-2522-42c0-a072-3fe968eaaba9",
   "metadata": {},
   "outputs": [],
   "source": [
    "p = reg.predict(d[[\"year\"]])\n",
    "print(p)"
   ]
  },
  {
   "cell_type": "code",
   "execution_count": null,
   "id": "3ab3f470-198c-4da0-910c-fb2fb175f76d",
   "metadata": {},
   "outputs": [],
   "source": [
    "d[\"new_price\"] = p\n",
    "d"
   ]
  }
 ],
 "metadata": {
  "kernelspec": {
   "display_name": "Python 3 (ipykernel)",
   "language": "python",
   "name": "python3"
  },
  "language_info": {
   "codemirror_mode": {
    "name": "ipython",
    "version": 3
   },
   "file_extension": ".py",
   "mimetype": "text/x-python",
   "name": "python",
   "nbconvert_exporter": "python",
   "pygments_lexer": "ipython3",
   "version": "3.12.7"
  }
 },
 "nbformat": 4,
 "nbformat_minor": 5
}
